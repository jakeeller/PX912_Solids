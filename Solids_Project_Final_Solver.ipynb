{
 "cells": [
  {
   "cell_type": "markdown",
   "metadata": {},
   "source": [
    "# PX912: Solid Mechanics - Workshop 5"
   ]
  },
  {
   "cell_type": "markdown",
   "metadata": {},
   "source": [
    "This workshop expands on the single finite element solution procedure described in Workshop 4 onto multiple finite elements. \n",
    "\n",
    "The first part of this workshop relates to a simple finite element mesh generator - it uses 2D four-node linear quads to discretize simple 2D domains. The generator can be used in your own project. \n",
    "\n",
    "The second part of this workshop includes main steps involved in a FE solution with multiple finite elements. These solution steps involved in this workshop will constitute the major component of your coursework project. "
   ]
  },
  {
   "cell_type": "code",
   "execution_count": 1,
   "metadata": {},
   "outputs": [],
   "source": [
    "import numpy as np\n",
    "import matplotlib.pyplot as plt\n",
    "\n",
    "# sympy isn't essential, but you might want to borrow code\n",
    "# from Workshop 4.\n",
    "# SymPy Library: Symbolic Python\n",
    "import sympy as sym\n",
    "sym.init_printing()\n",
    "#plt.rc('figure', figsize=(18,15))"
   ]
  },
  {
   "cell_type": "code",
   "execution_count": 2,
   "metadata": {},
   "outputs": [],
   "source": [
    "# mesh generation function "
   ]
  },
  {
   "cell_type": "markdown",
   "metadata": {},
   "source": [
    "### I. Mesh generator - brief description \n",
    "In the previous workshop, the finite element procedure was carried out on a single element. For this workshop, as well as your coursework, you'll be working with a larger number of elements.\n",
    "\n",
    "The FEM solution is influenced by the number of elements used, the number of nodes per element, the nature of shape functions, or integration rules. All this results in a *discretization error*.  \n",
    "\n",
    "Hence, appropriate discretization (or simply *meshing*) is important. One can come up with their own *meshing* technique or use tools available online. Here is a simple approach we recommend for your project."
   ]
  },
  {
   "attachments": {
    "mesh.png": {
     "image/png": "[encoded data removed]"
    }
   },
   "cell_type": "markdown",
   "metadata": {},
   "source": [
    "We are going to recreate this mesh plot.\n",
    "\n",
    "![mesh.png](attachment:mesh.png)\n",
    "\n",
    "As you can see, you need to specify the coordinates on the boundary of the shape."
   ]
  },
  {
   "cell_type": "code",
   "execution_count": 3,
   "metadata": {},
   "outputs": [],
   "source": [
    "bot = [0, 0.5, 1, 1.5, 2]                               # x-coordinates of bottom side nodes\n",
    "top = [0, 0.5, 1, 1.5, 2]                               # x-coordinates of top side nodes\n",
    "left = [0, 0.5, 1]                                      # y-coordinates of left-hand side nodes \n",
    "right = [0.5, 0.75, 1]                                  # y-coordinates nodes of right-hand side nodes"
   ]
  },
  {
   "cell_type": "markdown",
   "metadata": {},
   "source": [
    "Time for some bookkeeping. \n",
    "1. How many horizontal nodes do we have? How many elements?\n",
    "2. How many verticle nodes do we have? How many elements?\n",
    "3. What is the total number of nodes?"
   ]
  },
  {
   "cell_type": "code",
   "execution_count": 4,
   "metadata": {},
   "outputs": [
    {
     "data": {
      "image/png": "[encoded data removed]",
      "text/latex": [
       "$\\displaystyle \\left( 5, \\  3, \\  4, \\  2, \\  15\\right)$"
      ],
      "text/plain": [
       "(5, 3, 4, 2, 15)"
      ]
     },
     "execution_count": 4,
     "metadata": {},
     "output_type": "execute_result"
    }
   ],
   "source": [
    "nnodesx = len(bot)                                      # number of horizontal nodes\n",
    "nnodesy = len(left)                                     # number of vertical nodes \n",
    "nelx = nnodesx-1                                        # number of horizontal elements\n",
    "nely = nnodesy-1                                        # number of vertical elements\n",
    "nnodes = nnodesx*nnodesy                                # total number of nodes   \n",
    "\n",
    "nnodesx, nnodesy, nelx, nely, nnodes"
   ]
  },
  {
   "cell_type": "markdown",
   "metadata": {},
   "source": [
    "Now we generate the positions of each node. "
   ]
  },
  {
   "cell_type": "code",
   "execution_count": 5,
   "metadata": {
    "scrolled": true
   },
   "outputs": [
    {
     "data": {
      "text/plain": [
       "array([[0.    , 0.    ],\n",
       "       [0.5   , 0.125 ],\n",
       "       [1.    , 0.25  ],\n",
       "       [1.5   , 0.375 ],\n",
       "       [2.    , 0.5   ],\n",
       "       [0.    , 0.5   ],\n",
       "       [0.5   , 0.5625],\n",
       "       [1.    , 0.625 ],\n",
       "       [1.5   , 0.6875],\n",
       "       [2.    , 0.75  ],\n",
       "       [0.    , 1.    ],\n",
       "       [0.5   , 1.    ],\n",
       "       [1.    , 1.    ],\n",
       "       [1.5   , 1.    ],\n",
       "       [2.    , 1.    ]])"
      ]
     },
     "execution_count": 5,
     "metadata": {},
     "output_type": "execute_result"
    }
   ],
   "source": [
    "# length of RVE, x and y\n",
    "lx = bot[nnodesx-1] - bot[0]\n",
    "ly = left[nnodesy-1] - left[0]\n",
    "\n",
    "# GENERATE COORDINATES OF NODES 'XYZ'\n",
    "XYZ = np.zeros((nnodes,2))            \n",
    "for i in range(nnodesy):\n",
    "    yl = left[i] - left[0]\n",
    "    dy = right[i] - left[i]\n",
    "    for j in range(nnodesx):\n",
    "        xb = bot[j] - bot[0]\n",
    "        dx = top[j] - bot[j]\n",
    "\n",
    "        x = (dx*yl+xb*ly)/(ly-dx*dy/lx)\n",
    "        y = dy/lx*x+yl\n",
    "\n",
    "        XYZ[j+i*nnodesx, 0] = x + bot[0] \n",
    "        XYZ[j+i*nnodesx, 1] = y + left[0]\n",
    "        \n",
    "XYZ"
   ]
  },
  {
   "cell_type": "markdown",
   "metadata": {},
   "source": [
    "It is very useful to find the node numbers for each element. Write a routine that returns the node numbers for each element. For example, the first three elements should have node numbers:\n",
    "```\n",
    "[0, 1, 6, 5], [1, 2, 7, 6], [2, 3, 8, 7]\n",
    "```\n",
    "Note the direction that the nodes are being registered. Keep this consistent!"
   ]
  },
  {
   "cell_type": "code",
   "execution_count": 6,
   "metadata": {},
   "outputs": [
    {
     "data": {
      "text/plain": [
       "array([[ 0,  1,  6,  5],\n",
       "       [ 1,  2,  7,  6],\n",
       "       [ 2,  3,  8,  7],\n",
       "       [ 3,  4,  9,  8],\n",
       "       [ 5,  6, 11, 10],\n",
       "       [ 6,  7, 12, 11],\n",
       "       [ 7,  8, 13, 12],\n",
       "       [ 8,  9, 14, 13]])"
      ]
     },
     "execution_count": 6,
     "metadata": {},
     "output_type": "execute_result"
    }
   ],
   "source": [
    "# NODE NUMBERS FOR ELEMENTS \n",
    "nel = nelx*nely\n",
    "CON = np.zeros((nel,4), dtype=int)\n",
    "for i in range(nely):\n",
    "    for j in range(nelx):\n",
    "        # element 'el' and corresponding node numbers\n",
    "        CON[j+i*nelx, :] = [j+i*nnodesx, j+i*nnodesx+1,j+(i+1)*nnodesx+1, j+(i+1)*nnodesx] \n",
    "CON"
   ]
  },
  {
   "cell_type": "markdown",
   "metadata": {},
   "source": [
    "Finally, we should determine the degrees of freedom from the node numbers for each element. For the first element, you should get:\n",
    "```\n",
    "[ 0,  1,  2,  3, 12, 13, 10, 11]\n",
    "```"
   ]
  },
  {
   "cell_type": "code",
   "execution_count": 7,
   "metadata": {
    "scrolled": true
   },
   "outputs": [
    {
     "data": {
      "text/plain": [
       "array([[ 0,  1,  2,  3, 12, 13, 10, 11],\n",
       "       [ 2,  3,  4,  5, 14, 15, 12, 13],\n",
       "       [ 4,  5,  6,  7, 16, 17, 14, 15],\n",
       "       [ 6,  7,  8,  9, 18, 19, 16, 17],\n",
       "       [10, 11, 12, 13, 22, 23, 20, 21],\n",
       "       [12, 13, 14, 15, 24, 25, 22, 23],\n",
       "       [14, 15, 16, 17, 26, 27, 24, 25],\n",
       "       [16, 17, 18, 19, 28, 29, 26, 27]])"
      ]
     },
     "execution_count": 7,
     "metadata": {},
     "output_type": "execute_result"
    }
   ],
   "source": [
    "# Global DOF for each element (4-node (linear) quadrilateral element)\n",
    "DOF = np.zeros((nel,2*4), dtype=int)\n",
    "for i in range(nel):\n",
    "    # defines single row of DOF for each element 'i'\n",
    "    DOF[i,:] = [CON[i,0]*2, CON[i,1]*2-1, CON[i,1]*2, CON[i,1]*2+1,CON[i,2]*2, CON[i,2]*2+1, CON[i,3]*2, CON[i,3]*2+1]\n",
    "\n",
    "DOF"
   ]
  },
  {
   "cell_type": "markdown",
   "metadata": {},
   "source": [
    "Now, generalise your routines to work for any set of boundary coordinates. Write these in function form so that the code might be reused."
   ]
  },
  {
   "cell_type": "code",
   "execution_count": 8,
   "metadata": {},
   "outputs": [],
   "source": [
    "def mesh(bot,top,left,right):\n",
    "    # returns [XYZ, CON, DOF] \n",
    "    # XYZ - array of nodal coordinates [number of elements x 2]\n",
    "    # CON - array of node numbers for elements (linear QUADS [number of elements x 4])\n",
    "    # DOF - array of element DOFs (4-node (linear) quadrilateral element => [number of elements x 8]); \n",
    "    \n",
    "    # number of nodes and element in the RVE\n",
    "    nnodesx = len(bot)                     # number of horizontal nodes\n",
    "    nnodesy = len(left)                    # number of vertical nodes \n",
    "    nelx = nnodesx-1                       # number of horizontal elements\n",
    "    nely = nnodesy-1                       # number of vertical elements\n",
    "    nnodes = nnodesx*nnodesy               # total number of nodes    \n",
    "\n",
    "    # length of RVE\n",
    "    lx = bot[nnodesx-1] - bot[0]           # length of RVE in x-direction (horizontal)\n",
    "    ly = left[nnodesy-1] - left[0]         # length of RVE in y-direction (vertical)\n",
    "\n",
    "    # GENERATE COORDINATES OF NODES 'XYZ'\n",
    "    XYZ = np.zeros((nnodes,2))            # two-column array [nnodes x 2] containing all nodal coordinates  \n",
    "    for i in range(nnodesy):              # loop over all nodes on the vertical sides \n",
    "        yl = left[i] - left[0]            # distance between node 'i' and left-bottom node '1'\n",
    "        dy = right[i] - left[i]           # distance between the corresponing nodes j on top and bottom \n",
    "        for j in range(nnodesx):          # loop over all nodes on the horizontal sides\n",
    "            xb = bot[j] - bot[0]          # distance between node 'j' and bottom-left node '1' \n",
    "            dx = top[j] - bot[j]          # distance between nodes 'j' on opposite sides (top and bottom)\n",
    "\n",
    "            x = (dx*yl+xb*ly)/(ly-dx*dy/lx) # x-coordinate (horizontal) of a node in the interior of RVE\n",
    "            y = dy/lx*x+yl                  # y-coordinate (vertical) of a node in the interior of RVE\n",
    "\n",
    "            XYZ[j+i*nnodesx, 0] = x + bot[0]  # coordinate 'x' in the global coordinate system \n",
    "            XYZ[j+i*nnodesx, 1] = y + left[0] # coordinate 'y' in the global coordinate system\n",
    "\n",
    "    # NODE NUMBERS FOR ELEMENTS \n",
    "    nel = nelx*nely                              # total number of elements in RVE\n",
    "    CON = np.zeros((nel,4), dtype=int)           # [nel*4] array of node number for each element\n",
    "    for i in range(nely):                        # loop over elements in the vertical direction \n",
    "        for j in range(nelx):                    # loop over elements in the horizontal direction \n",
    "            # element 'el' and corresponding node numbers\n",
    "            CON[j+i*nelx, :] = [j+i*nnodesx, j+i*nnodesx+1,j+(i+1)*nnodesx+1, j+(i+1)*nnodesx] \n",
    "\n",
    "    # Global DOF for each element (4-node (linear) quadrilateral element)\n",
    "    DOF = np.zeros((nel,2*4), dtype=int)\n",
    "    for i in range(nel):\n",
    "        # defines single row of DOF for each element 'i'\n",
    "        DOF[i,:] = [CON[i,0]*2, CON[i,1]*2-1, CON[i,1]*2, CON[i,1]*2+1,CON[i,2]*2, CON[i,2]*2+1, CON[i,3]*2, CON[i,3]*2+1]\n",
    "        \n",
    "    return XYZ, CON, DOF"
   ]
  },
  {
   "cell_type": "code",
   "execution_count": 9,
   "metadata": {},
   "outputs": [
    {
     "data": {
      "image/png": "[encoded data removed]",
      "text/plain": [
       "<Figure size 640x480 with 1 Axes>"
      ]
     },
     "metadata": {},
     "output_type": "display_data"
    }
   ],
   "source": [
    "# Plotting routine: \n",
    "# plot the mesh \n",
    "plt.plot(XYZ[:, 0], XYZ[:, 1], 'sk')\n",
    "\n",
    "for i in range(len(CON)):\n",
    "    plt.fill(XYZ[CON[i, :], 0], XYZ[CON[i, :], 1], edgecolor='k', fill=False)\n",
    "\n",
    "for i in range(4):                             #loop over all nodes within an element\n",
    "    for j in range(len(CON)):                  #loop over all elements\n",
    "        sh=0.01\n",
    "        plt.text(XYZ[CON[j,i],0]+sh,XYZ[CON[j,i],1]+sh, CON[j,i])\n",
    "\n",
    "\n",
    "# Set chart title.\n",
    "plt.title(\"Mesh\", fontsize=19)\n",
    "# Set x axis label.\n",
    "plt.xlabel(\"$x_1$\", fontsize=10)\n",
    "# Set y axis label.\n",
    "plt.ylabel(\"$x_2$\", fontsize=10)\n",
    "# Set size of tick labels.\n",
    "plt.tick_params(axis='both', which='major', labelsize=9)\n",
    "\n",
    "plt.show()"
   ]
  },
  {
   "cell_type": "markdown",
   "metadata": {},
   "source": [
    "## II. Finite element solution procedure with multiple finite elements"
   ]
  },
  {
   "cell_type": "markdown",
   "metadata": {},
   "source": [
    "The steps suggested below are related to your coursework. \n",
    "\n",
    "Detailed guidance cannot be given, but everything you need can be found in the previous two workshops."
   ]
  },
  {
   "cell_type": "markdown",
   "metadata": {},
   "source": [
    "### II.1. Mesh"
   ]
  },
  {
   "cell_type": "code",
   "execution_count": 10,
   "metadata": {},
   "outputs": [],
   "source": [
    "def XYZ(bot,top,left,right):\n",
    "    nnodesx = len(bot)                     # number of horizontal nodes\n",
    "    nnodesy = len(left)                    # number of vertical nodes \n",
    "    nelx = nnodesx-1                       # number of horizontal elements\n",
    "    nely = nnodesy-1                       # number of vertical elements\n",
    "    nnodes = nnodesx*nnodesy               # total number of nodes    \n",
    "\n",
    "    # length of RVE\n",
    "    lx = bot[nnodesx-1] - bot[0]           # length of RVE in x-direction (horizontal)\n",
    "    ly = left[nnodesy-1] - left[0]         # length of RVE in y-direction (vertical)\n",
    "\n",
    "    # GENERATE COORDINATES OF NODES 'XYZ'\n",
    "    XYZ = np.zeros((nnodes,2))            # two-column array [nnodes x 2] containing all nodal coordinates  \n",
    "    for i in range(nnodesy):              # loop over all nodes on the vertical sides \n",
    "        yl = left[i] - left[0]            # distance between node 'i' and left-bottom node '1'\n",
    "        dy = right[i] - left[i]           # distance between the corresponing nodes j on top and bottom \n",
    "        for j in range(nnodesx):          # loop over all nodes on the horizontal sides\n",
    "            xb = bot[j] - bot[0]          # distance between node 'j' and bottom-left node '1' \n",
    "            dx = top[j] - bot[j]          # distance between nodes 'j' on opposite sides (top and bottom)\n",
    "\n",
    "            x = (dx*yl+xb*ly)/(ly-dx*dy/lx) # x-coordinate (horizontal) of a node in the interior of RVE\n",
    "            y = dy/lx*x+yl                  # y-coordinate (vertical) of a node in the interior of RVE\n",
    "\n",
    "            XYZ[j+i*nnodesx, 0] = x + bot[0]  # coordinate 'x' in the global coordinate system \n",
    "            XYZ[j+i*nnodesx, 1] = y + left[0] # coordinate 'y' in the global coordinate system\n",
    "        nel = nelx*nely                              # total number of elements in RVE\n",
    "    CON = np.zeros((nel,4), dtype=int)           # [nel*4] array of node number for each element\n",
    "    for i in range(nely):                        # loop over elements in the vertical direction \n",
    "        for j in range(nelx):                    # loop over elements in the horizontal direction \n",
    "            # element 'el' and corresponding node numbers\n",
    "            CON[j+i*nelx, :] = [j+i*nnodesx, j+i*nnodesx+1,j+(i+1)*nnodesx+1, j+(i+1)*nnodesx] \n",
    "\n",
    "    return XYZ, nelx, nely, nnodesx, nnodesy, CON,nel"
   ]
  },
  {
   "cell_type": "code",
   "execution_count": 11,
   "metadata": {},
   "outputs": [
    {
     "data": {
      "image/png": "[encoded data removed]",
      "text/plain": [
       "<Figure size 640x480 with 1 Axes>"
      ]
     },
     "metadata": {},
     "output_type": "display_data"
    },
    {
     "data": {
      "text/plain": [
       "array([[  0,   1,   2,   3,  28,  29,  26,  27],\n",
       "       [  2,   3,   4,   5,  30,  31,  28,  29],\n",
       "       [  4,   5,   6,   7,  32,  33,  30,  31],\n",
       "       [  6,   7,   8,   9,  34,  35,  32,  33],\n",
       "       [  8,   9,  10,  11,  36,  37,  34,  35],\n",
       "       [ 10,  11,  12,  13,  38,  39,  36,  37],\n",
       "       [ 12,  13,  14,  15,  40,  41,  38,  39],\n",
       "       [ 14,  15,  16,  17,  42,  43,  40,  41],\n",
       "       [ 16,  17,  18,  19,  44,  45,  42,  43],\n",
       "       [ 18,  19,  20,  21,  46,  47,  44,  45],\n",
       "       [ 20,  21,  22,  23,  48,  49,  46,  47],\n",
       "       [ 22,  23,  24,  25,  50,  51,  48,  49],\n",
       "       [ 26,  27,  28,  29,  54,  55,  52,  53],\n",
       "       [ 28,  29,  30,  31,  56,  57,  54,  55],\n",
       "       [ 30,  31,  32,  33,  58,  59,  56,  57],\n",
       "       [ 32,  33,  34,  35,  60,  61,  58,  59],\n",
       "       [ 34,  35,  36,  37,  62,  63,  60,  61],\n",
       "       [ 36,  37,  38,  39,  64,  65,  62,  63],\n",
       "       [ 38,  39,  40,  41,  66,  67,  64,  65],\n",
       "       [ 40,  41,  42,  43,  68,  69,  66,  67],\n",
       "       [ 42,  43,  44,  45,  70,  71,  68,  69],\n",
       "       [ 44,  45,  46,  47,  72,  73,  70,  71],\n",
       "       [ 46,  47,  48,  49,  74,  75,  72,  73],\n",
       "       [ 48,  49,  50,  51,  76,  77,  74,  75],\n",
       "       [ 52,  53,  54,  55,  80,  81,  78,  79],\n",
       "       [ 54,  55,  56,  57,  82,  83,  80,  81],\n",
       "       [ 72,  73,  74,  75,  86,  87,  84,  85],\n",
       "       [ 74,  75,  76,  77,  88,  89,  86,  87],\n",
       "       [ 78,  79,  80,  81,  92,  93,  90,  91],\n",
       "       [ 80,  81,  82,  83,  94,  95,  92,  93],\n",
       "       [ 84,  85,  86,  87,  98,  99,  96,  97],\n",
       "       [ 86,  87,  88,  89, 100, 101,  98,  99],\n",
       "       [ 90,  91,  92,  93, 104, 105, 102, 103],\n",
       "       [ 92,  93,  94,  95, 106, 107, 104, 105],\n",
       "       [ 96,  97,  98,  99, 110, 111, 108, 109],\n",
       "       [ 98,  99, 100, 101, 112, 113, 110, 111],\n",
       "       [102, 103, 104, 105, 116, 117, 114, 115],\n",
       "       [104, 105, 106, 107, 118, 119, 116, 117],\n",
       "       [108, 109, 110, 111, 122, 123, 120, 121],\n",
       "       [110, 111, 112, 113, 124, 125, 122, 123],\n",
       "       [114, 115, 116, 117, 128, 129, 126, 127],\n",
       "       [116, 117, 118, 119, 130, 131, 128, 129],\n",
       "       [120, 121, 122, 123, 134, 135, 132, 133],\n",
       "       [122, 123, 124, 125, 136, 137, 134, 135],\n",
       "       [126, 127, 128, 129, 140, 141, 138, 139],\n",
       "       [128, 129, 130, 131, 142, 143, 140, 141],\n",
       "       [132, 133, 134, 135, 160, 161, 158, 159],\n",
       "       [134, 135, 136, 137, 162, 163, 160, 161],\n",
       "       [138, 139, 140, 141, 166, 167, 164, 165],\n",
       "       [140, 141, 142, 143, 168, 169, 166, 167],\n",
       "       [142, 143, 144, 145, 170, 171, 168, 169],\n",
       "       [144, 145, 146, 147, 172, 173, 170, 171],\n",
       "       [146, 147, 148, 149, 174, 175, 172, 173],\n",
       "       [148, 149, 150, 151, 176, 177, 174, 175],\n",
       "       [150, 151, 152, 153, 178, 179, 176, 177],\n",
       "       [152, 153, 154, 155, 180, 181, 178, 179],\n",
       "       [154, 155, 156, 157, 182, 183, 180, 181],\n",
       "       [156, 157, 158, 159, 184, 185, 182, 183],\n",
       "       [158, 159, 160, 161, 186, 187, 184, 185],\n",
       "       [160, 161, 162, 163, 188, 189, 186, 187],\n",
       "       [164, 165, 166, 167, 192, 193, 190, 191],\n",
       "       [166, 167, 168, 169, 194, 195, 192, 193],\n",
       "       [168, 169, 170, 171, 196, 197, 194, 195],\n",
       "       [170, 171, 172, 173, 198, 199, 196, 197],\n",
       "       [172, 173, 174, 175, 200, 201, 198, 199],\n",
       "       [174, 175, 176, 177, 202, 203, 200, 201],\n",
       "       [176, 177, 178, 179, 204, 205, 202, 203],\n",
       "       [178, 179, 180, 181, 206, 207, 204, 205],\n",
       "       [180, 181, 182, 183, 208, 209, 206, 207],\n",
       "       [182, 183, 184, 185, 210, 211, 208, 209],\n",
       "       [184, 185, 186, 187, 212, 213, 210, 211],\n",
       "       [186, 187, 188, 189, 214, 215, 212, 213]])"
      ]
     },
     "execution_count": 11,
     "metadata": {},
     "output_type": "execute_result"
    }
   ],
   "source": [
    "##################################################################################################################\n",
    "############################# NOTE: To change density of nodes ###################################################\n",
    "############################# only need to change value of 'n' ###################################################\n",
    "##################################################################################################################\n",
    "\n",
    "n = 2             ################### n = 1,2,3,4,5 sets the density of the mesh!!!!!!!!!!!################ \n",
    "if n == 1:\n",
    "    bot = np.linspace(0.0,1.2,7, endpoint =True)\n",
    "    top=bot\n",
    "    left = np.linspace(0.0,1.0,6, endpoint =True)\n",
    "    right = left    \n",
    "elif n==2:\n",
    "    bot = np.linspace(0.0,1.2,13, endpoint =True)\n",
    "    top=bot\n",
    "    left = np.linspace(0.0,1.0,11, endpoint =True)\n",
    "    right = left\n",
    "elif n == 3:\n",
    "    bot = np.linspace(0.0,1.2,25, endpoint =True)\n",
    "    top=bot\n",
    "    left = np.linspace(0.0,1.0,21, endpoint =True)\n",
    "    right = left\n",
    "elif n == 4:\n",
    "    bot = np.linspace(0.0,1.2,49, endpoint =True)\n",
    "    top=bot\n",
    "    left = np.linspace(0.0,1.0,41, endpoint =True)\n",
    "    right = left\n",
    "elif n ==5:\n",
    "    bot = np.linspace(0.0,1.2,97, endpoint =True)\n",
    "    top=bot\n",
    "    left = np.linspace(0.0,1.0,81, endpoint =True)\n",
    "    right = left\n",
    "XYZ1, nelx1, nely1 ,nnodesx1, nnodesy1, CON, nel1= XYZ(bot,top,left,right)\n",
    "\n",
    "#--------------------------------------\n",
    "\n",
    "\n",
    "if n == 1:\n",
    "    bot = np.linspace(0.2,1.0,5, endpoint =True)\n",
    "    top=bot\n",
    "    left = np.linspace(0.2,0.8,4, endpoint =True)\n",
    "    right = left    \n",
    "elif n==2:\n",
    "    bot = np.linspace(0.2,1.0,9, endpoint =True)\n",
    "    top=bot\n",
    "    left = np.linspace(0.2,0.8,7, endpoint =True)\n",
    "    right = left\n",
    "elif n == 3:\n",
    "    bot = np.linspace(0.2,1.0,17, endpoint =True)\n",
    "    top=bot\n",
    "    left = np.linspace(0.2,0.8,13, endpoint =True)\n",
    "    right = left\n",
    "elif n == 4:\n",
    "    bot = np.linspace(0.2,1.0,33, endpoint =True)\n",
    "    top=bot\n",
    "    left = np.linspace(0.2,0.8,25, endpoint =True)\n",
    "    right = left\n",
    "elif n == 5:\n",
    "    bot = np.linspace(0.2,1.0,65, endpoint =True)\n",
    "    top=bot\n",
    "    left = np.linspace(0.2,0.8,49, endpoint =True)\n",
    "    right = left\n",
    "XYZ2, nelx2, nely, nnodesx2, nnodesy2, CON2, nel2 = XYZ(bot,top,left,right)\n",
    "\n",
    "#--------------------------------------\n",
    "\n",
    "#Generate resulting mesh\n",
    "\n",
    "jstore = []\n",
    "for j,i in enumerate(XYZ2):   #shave deleted points\n",
    "    if - 0.00000000001 < (i[0] - 0.2) < 0.00000000001:\n",
    "        jstore.append(j)\n",
    "    elif - 0.00000000001 < (i[0] - 1.0) < 0.00000000001:\n",
    "        jstore.append(j)\n",
    "    elif - 0.00000000001 < (i[1] - 0.2) < 0.00000000001:\n",
    "        jstore.append(j)\n",
    "    elif - 0.00000000001 < (i[1] - 0.8) < 0.00000000001:\n",
    "        jstore.append(j)\n",
    "    \n",
    "for i in reversed(jstore):\n",
    "    XYZ2 = np.delete(XYZ2, i, axis = 0)\n",
    "#print(XYZ2)    \n",
    "\n",
    "\n",
    "jstore1 = []\n",
    "jstore2 = []\n",
    "jstore3 = []\n",
    "for i in range(len(XYZ2)):\n",
    "    for j in range(len(XYZ1)):\n",
    "        if (-0.00001<(float(XYZ2[i,0]) - float(XYZ1[j,0])) < 0.000001) and (-0.000001<(float(XYZ2[i,1]) - float(XYZ1[j,1])) < 0.0001):  #ISSUE COMING FROM HERE\n",
    "            jstore1.append(j)            \n",
    "        #elif XYZ2[i,0] != XYZ1[j,0] and XYZ2[i,1] != XYZ1[j,1]:\n",
    "        #    jstore2.append(j)\n",
    "        #else:\n",
    "        #    jstore3.append(j)\n",
    "        #    print('node', j, 'not tested well')\n",
    "        \n",
    "#print(jstore1)\n",
    "for i in reversed(jstore1):\n",
    "    XYZ1 = np.delete(XYZ1, i, axis = 0)\n",
    "XYZ = XYZ1\n",
    "#print(XYZ)\n",
    "\n",
    "fifthny = int(nely1/5)\n",
    "sixthnx = int(nelx1/6)\n",
    "CON1 = []\n",
    "for i in range((nelx1*fifthny)+sixthnx):  #does bottom\n",
    "    CON1.append(list(CON[i]))\n",
    "#print(CON1)\n",
    "(nelx1-(2*sixthnx)) #does middle\n",
    "start_noder = (nelx1*(fifthny+1))\n",
    "start_nodel = nnodesx1 * (fifthny+1)\n",
    "#print(start_noder,start_nodel)\n",
    "start_node_arr = []\n",
    "for i in range(sixthnx):\n",
    "    start_node_arr.append(start_noder+i)\n",
    "for i in range(sixthnx):\n",
    "    start_node_arr.append(start_nodel+i)\n",
    "\n",
    "\n",
    "#print(start_node_arr) #[36,37,39,40]\n",
    "#------------------------------------------------------------------------------------\n",
    "ijstore= []\n",
    "\n",
    "for i in range(int(((nely1/5)*3)-1)):\n",
    "        for j in start_node_arr:#120, 121, 122, 123, 125, 126, 127, 128\n",
    "            #ijstore.append(j+(i+1)*(nelx1-((sixthnx+1)*sixthnx)))\n",
    "            ijstore.append(j + ((i+1)*(sixthnx+sixthnx+2)))\n",
    "#print(ijstore)\n",
    "for i in ijstore:\n",
    "    start_node_arr.append(i)\n",
    "start_node_arr = start_node_arr[0:-2*sixthnx] # could be a source of error!\n",
    "############################################################\n",
    "#print(start_node_arr)\n",
    "#print(start_node_arr)\n",
    "for i in start_node_arr:\n",
    "    CON1.append([i, i+1, i+1+(sixthnx+sixthnx+2),i+(sixthnx+sixthnx+2)])\n",
    "    #CON1.append([i, i+1, i+1+(nelx1-((sixthnx+1)*sixthnx)),i+(nelx1-((sixthnx+1)*sixthnx))])\n",
    "\n",
    "start_end_1_arr = []   \n",
    "start_end_1  = ijstore[-2*sixthnx-1]+2\n",
    "#print(start_end_1)\n",
    "for i in range(sixthnx):\n",
    "    start_end_1_arr.append(start_end_1 + i)\n",
    "for i in start_end_1_arr:\n",
    "    CON1.append([i, i+1, i+1+nnodesx1, i+nnodesx1])\n",
    "#print(start_end_1_arr)\n",
    "\n",
    "start_end_2 = start_end_1_arr[-1] +2\n",
    "start_end_2_arr = []\n",
    "for i in range((int(nnodesx1)*(fifthny)-1)):\n",
    "    start_end_2_arr.append(start_end_2+i)\n",
    "#print(start_end_2_arr)\n",
    "del_nodes_store = []\n",
    "if len(start_end_2_arr)>nnodesx1:\n",
    "    for i in range(1,fifthny):\n",
    "        del_nodes_store.append((i*nnodesx1)-1)\n",
    "for i in reversed(del_nodes_store):\n",
    "    del start_end_2_arr[i]\n",
    "#print(start_end_2_arr)\n",
    "for i in start_end_2_arr:\n",
    "    CON1.append([i, i+1, i+1+nnodesx1, i+nnodesx1])\n",
    "    \n",
    "CON1 = np.array(CON1)\n",
    "\n",
    "plt.plot(XYZ[:, 0], XYZ[:, 1], 'sk')\n",
    "\n",
    "for i in range(len(CON1)):\n",
    "    plt.fill(XYZ[CON1[i, :], 0], XYZ[CON1[i, :], 1], edgecolor='k', fill=False)\n",
    "\n",
    "for i in range(4):                             #loop over all nodes within an element\n",
    "    for j in range(len(CON1)):                  #loop over all elements\n",
    "        sh=0.01\n",
    "        plt.text(XYZ[CON1[j,i],0]+sh,XYZ[CON1[j,i],1]+sh, CON1[j,i])\n",
    "nel = nel1-nel2\n",
    "DOF = np.zeros((nel,2*4), dtype=int)\n",
    "for i in range(nel):\n",
    "        # defines single row of DOF for each element 'i'\n",
    "    DOF[i,:] = [CON1[i,0]*2, CON1[i,1]*2-1, CON1[i,1]*2, CON1[i,1]*2+1,CON1[i,2]*2, CON1[i,2]*2+1, CON1[i,3]*2, CON1[i,3]*2+1]\n",
    "\n",
    "\n",
    "# Set chart title.\n",
    "plt.title(\"Mesh\", fontsize=19)\n",
    "# Set x axis label.\n",
    "plt.xlabel(\"$x_1$\", fontsize=10)\n",
    "# Set y axis label.\n",
    "plt.ylabel(\"$x_2$\", fontsize=10)\n",
    "# Set size of tick labels.\n",
    "plt.tick_params(axis='both', which='major', labelsize=9)\n",
    "\n",
    "plt.show()\n",
    "DOF\n",
    "#print(nnodesy1)\n"
   ]
  },
  {
   "cell_type": "markdown",
   "metadata": {},
   "source": [
    "### II.2. Input \n",
    "* Specify the parameters of your system.\n",
    "* Set the boundary conditions: which nodes in the system are fixed? Which nodes are acted on by a force? Can you specify these in your unknowns? Hint: consider using a similar approach to Question 2 in  Workshop 4."
   ]
  },
  {
   "cell_type": "code",
   "execution_count": 12,
   "metadata": {},
   "outputs": [
    {
     "name": "stdout",
     "output_type": "stream",
     "text": [
      "72\n",
      "216\n",
      "[0 0 0 0 0 0 0 0 0 0 0 0 0 0 0 0 0 0 0 0 0 0 0 0 0 0 1 1 1 1 1 1 1 1 1 1 1\n",
      " 1 1 1 1 1 1 1 1 1 1 1 1 1 1 1 1 1 1 1 1 1 1 1 1 1 1 1 1 1 1 1 1 1 1 1 1 1\n",
      " 1 1 1 1 1 1 1 1 1 1 1 1 1 1 1 1 1 1 1 1 1 1 1 1 1 1 1 1 1 1 1 1 1 1 1 1 1\n",
      " 1 1 1 1 1 1 1 1 1 1 1 1 1 1 1 1 1 1 1 1 1 1 1 1 1 1 1 1 1 1 1 1 1 1 1 1 1\n",
      " 1 1 1 1 1 1 1 1 1 1 1 1 1 1 1 1 1 1 1 1 1 1 1 1 1 1 1 1 1 1 1 1 1 1 1 1 1\n",
      " 1 1 1 1 1 1 1 1 1 1 1 1 1 1 1 1 1 1 1 1 1 1 1 1 1 1 1 1 1 1 1]\n",
      "-1.7777777777777777\n",
      "[ 0.          0.          0.          0.          0.          0.\n",
      "  0.          0.          0.          0.          0.          0.\n",
      "  0.          0.          0.          0.          0.          0.\n",
      "  0.          0.          0.          0.          0.          0.\n",
      "  0.          0.          0.          0.          0.          0.\n",
      "  0.          0.          0.          0.          0.          0.\n",
      "  0.          0.          0.          0.          0.          0.\n",
      "  0.          0.          0.          0.          0.          0.\n",
      "  0.          0.         -2.57142857  0.          0.          0.\n",
      "  0.          0.          0.          0.          0.          0.\n",
      "  0.          0.         -2.57142857  0.          0.          0.\n",
      "  0.          0.          0.          0.          0.          0.\n",
      "  0.          0.         -2.57142857  0.          0.          0.\n",
      "  0.          0.          0.          0.          0.          0.\n",
      "  0.          0.         -2.57142857  0.          0.          0.\n",
      "  0.          0.          0.          0.          0.          0.\n",
      "  0.          0.         -2.57142857  0.          0.          0.\n",
      "  0.          0.          0.          0.          0.          0.\n",
      "  0.          0.         -2.57142857  0.          0.          0.\n",
      "  0.          0.          0.          0.          0.          0.\n",
      "  0.          0.          0.          0.          0.          0.\n",
      "  0.          0.          0.          0.          0.          0.\n",
      "  0.          0.          0.          0.         -2.57142857  0.\n",
      "  0.          0.          0.          0.          0.          0.\n",
      "  0.          0.          0.          0.          0.          0.\n",
      "  0.          0.          0.          0.          0.          0.\n",
      "  0.          0.          0.          0.          0.          0.\n",
      "  0.          0.          0.          0.          0.          0.\n",
      "  0.         -1.77777778  0.         -1.77777778  0.         -1.77777778\n",
      "  0.         -1.77777778  0.         -1.77777778  0.         -1.77777778\n",
      "  0.         -1.77777778  0.         -1.77777778  0.         -1.77777778\n",
      "  0.          0.          0.          0.        ]\n"
     ]
    }
   ],
   "source": [
    "# Material properties \n",
    "E= 150e9                                                      \n",
    "nu= 0.26                                                      \n",
    "\n",
    "# Model thickness\n",
    "th = 10                                                       # thickness of the 2D domain\n",
    "\n",
    "#Boundary conditions\n",
    "print(len(DOF))\n",
    "\n",
    "ndof=2*len(XYZ)\n",
    "print(ndof)\n",
    "BC = np.ones((ndof,),dtype=int)                                # creates array\n",
    "BC_bound = np.array(range(2*nnodesx1))\n",
    "#print(BC_bound)\n",
    "# boundary constraints - set to zero relevant DOFs\n",
    "for i in BC_bound:\n",
    "    BC[i] = 0\n",
    "#print(len(BC))\n",
    "# assign nodal IDs to zero-displacement boundary conditions  \n",
    "\n",
    "# create BC array containing non-zero IDs of DOFs - will be used when reducing the size of the global stiffness matrix \n",
    "print(BC)\n",
    "BCstore=BC\n",
    "BC = BC.nonzero()\n",
    "BC = np.array(BC).transpose()\n",
    "BC = BC.reshape(-1)\n",
    "\n",
    "\n",
    "# External loads - define the right hand side load vector \n",
    "fext = float(-16.0/(nnodesx1-2*sixthnx))                                                 # units of Newton [N]\n",
    "\n",
    "rhs = np.zeros((ndof,),dtype=float)                           # create the right hand side (RHS) column matrix\n",
    "\n",
    "\n",
    "#rhs[[ID1, ...]] = fext                                        # apply loads to relevant nodal IDs\n",
    "\n",
    "#rhs = rhs[BC]                                                 # combine components corresponding to non-zero components of 'BCmacro'\n",
    "top_node_number = len(XYZ)-1\n",
    "top_side_fr = top_node_number-sixthnx\n",
    "top_side_list = []\n",
    "for i in range(4*sixthnx+1):\n",
    "    top_side_list.append(top_side_fr-i)\n",
    "top_side_list.reverse()\n",
    "top_side_list = 2*np.array(top_side_list)\n",
    "top_side_list = top_side_list+1\n",
    "for i in top_side_list:\n",
    "    rhs[i] = fext\n",
    "\n",
    "fext = float(-18.0/(nnodesy1-2*fifthny))\n",
    "right_node_number = ((fifthny+1)*nnodesx1)-1\n",
    "z = (2*fifthny)+2\n",
    "right_node_number_store = []\n",
    "for i in range(3*fifthny):\n",
    "    right_node_number_store.append(right_node_number + i*z)\n",
    "right_node_number_store.append(right_node_number_store[-1]+nnodesx1)\n",
    "right_node_number_store = 2*np.array(right_node_number_store)\n",
    "for i in right_node_number_store:\n",
    "    rhs[i] = fext\n",
    "print(rhs[-5])\n",
    "rhs = rhs[BC]                                                 # combine components corresponding to non-zero components of 'BCmacro'\n",
    "print(rhs)"
   ]
  },
  {
   "cell_type": "code",
   "execution_count": null,
   "metadata": {},
   "outputs": [],
   "source": []
  },
  {
   "cell_type": "markdown",
   "metadata": {},
   "source": [
    "It's worth collecting all the functions that you'll be needing that you've already written. These are\n",
    "* The element elasticity matrix.\n",
    "* The element strain-displacement matrix.\n",
    "* The element stiffness matrix.\n",
    "* The strain and stress column matrices (Voigt notation).\n",
    "\n",
    "Make sure you with the relevant coordinates."
   ]
  },
  {
   "cell_type": "markdown",
   "metadata": {},
   "source": [
    "### II.3. Element elasticity matrix (function)"
   ]
  },
  {
   "cell_type": "code",
   "execution_count": 13,
   "metadata": {},
   "outputs": [],
   "source": [
    "#Plane strain assumption.\n",
    "def elasticity_matrix(E,nu):\n",
    "    Ce1 = (E/((1.0+nu)*(1.0-2.0*nu)))*np.array([[1.0-nu, nu, 0.0],[nu, 1.0-nu, 0.0], [0.0,0.0,((1.0-2.0*nu)/2.0)]])\n",
    "    Ce = sym.Matrix(Ce1)\n",
    "    return Ce\n",
    "Ce =elasticity_matrix(E,nu)"
   ]
  },
  {
   "cell_type": "markdown",
   "metadata": {},
   "source": [
    "### II.4. Element strain-displacement matrix (function)"
   ]
  },
  {
   "cell_type": "code",
   "execution_count": 14,
   "metadata": {},
   "outputs": [],
   "source": [
    "#xyze = coords of an element\n",
    "xi, eta = sym.symbols('xi eta')\n",
    "\n",
    "N1 = 0.25*(1-xi)*(1-eta)\n",
    "N2 = 0.25*(1+xi)*(1-eta)\n",
    "N3 = 0.25*(1+xi)*(1+eta)\n",
    "N4 = 0.25*(1-xi)*(1+eta)\n",
    "b1 = sym.Matrix([N1.diff(xi), N1.diff(eta)])\n",
    "b2 = sym.Matrix([N2.diff(xi), N2.diff(eta)])\n",
    "b3 = sym.Matrix([N3.diff(xi), N3.diff(eta)])\n",
    "b4 = sym.Matrix([N4.diff(xi), N4.diff(eta)])\n",
    "B1=sym.Matrix.hstack(b1, b2, b3, b4)\n",
    "def dispstrain_B(xyze, xi, eta):\n",
    "    J = B1*xyze   \n",
    "    invJ = J**-1\n",
    "    dnx = invJ*B1 \n",
    "    B_e_arr1 = sym.Matrix([[dnx[0,0], 0.0],[0.0, dnx[1,0]],[dnx[1,0],dnx[0,0]]])\n",
    "    B_e_arr2 = sym.Matrix([[dnx[0,1], 0.0],[0.0, dnx[1,1]],[dnx[1,1],dnx[0,1]]])\n",
    "    B_e_arr3 = sym.Matrix([[dnx[0,2], 0.0],[0.0, dnx[1,2]],[dnx[1,2],dnx[0,2]]])\n",
    "    B_e_arr4 = sym.Matrix([[dnx[0,3], 0.0],[0.0, dnx[1,3]],[dnx[1,3],dnx[0,3]]])\n",
    "    dsB =  sym.Matrix.hstack(B_e_arr1, B_e_arr2, B_e_arr3, B_e_arr4)\n",
    "    #dsB=np.array(dsB)# strain-displacement matrix\n",
    "    \n",
    "    \n",
    "    return dsB, J\n",
    "#xyze = np.zeros((4,2))\n",
    "#xyze[0] = XYZ[0]\n",
    "#xyze[1] = XYZ[1]\n",
    "#xyze[2] = XYZ[14]\n",
    "#xyze[3] = XYZ[13]\n",
    "#make sure matches curent n = ...\n",
    "\n",
    "#dsB,J = dispstrain_B(xyze,xi,eta)\n",
    "#print(np.shape(dsB))"
   ]
  },
  {
   "cell_type": "markdown",
   "metadata": {},
   "source": [
    "### II.5. Element stiffness matrix (function)"
   ]
  },
  {
   "cell_type": "code",
   "execution_count": 15,
   "metadata": {},
   "outputs": [],
   "source": [
    "\n",
    "def keval(xyze,Ce,th):\n",
    "    dsB, J = dispstrain_B(xyze, xi, eta)\n",
    "    detJ = J.det()\n",
    "    W1 = 1.0\n",
    "    W2 = 1.0\n",
    "\n",
    "    xi1, xi2 = -1.0/np.sqrt(3), 1.0/np.sqrt(3)\n",
    "    eta1, eta2 = -1.0/np.sqrt(3), 1.0/np.sqrt(3)\n",
    "\n",
    "    # write the integration points in terms of eta and xi\n",
    "    ip1 = (xi1,eta1)\n",
    "    ip2 = (xi2,eta1)\n",
    "    ip3 = (xi2,eta2)\n",
    "    ip4 = (xi1,eta2)\n",
    "    K_ip =  W1*W2*dsB.T@Ce@dsB*detJ\n",
    "    K1 = K_ip.evalf(subs = {xi:ip1[0], eta:ip1[1]})\n",
    "    K2 = K_ip.evalf(subs = {xi:ip2[0], eta:ip2[1]})\n",
    "    K3 = K_ip.evalf(subs = {xi:ip3[0], eta:ip3[1]})\n",
    "    K4 = K_ip.evalf(subs = {xi:ip4[0], eta:ip4[1]})\n",
    "\n",
    "    K_element = K1 + K2 + K3 + K4\n",
    "    ke = th*K_element\n",
    "\n",
    "        \n",
    "    return ke\n",
    "#keval(xyze,Ce,th)\n",
    "#xyze = XYZ[CON1[0]]\n",
    "#xyze"
   ]
  },
  {
   "cell_type": "code",
   "execution_count": 16,
   "metadata": {},
   "outputs": [
    {
     "name": "stdout",
     "output_type": "stream",
     "text": [
      "(3, 72)\n"
     ]
    }
   ],
   "source": [
    "sigma = np.zeros((3,len(CON1)))\n",
    "print(np.shape(sigma))"
   ]
  },
  {
   "cell_type": "markdown",
   "metadata": {},
   "source": [
    "### II.6. Strain and stress calculation (functions)"
   ]
  },
  {
   "cell_type": "code",
   "execution_count": 17,
   "metadata": {},
   "outputs": [],
   "source": [
    "xi1, xi2 = -1.0/np.sqrt(3), 1.0/np.sqrt(3)\n",
    "eta1, eta2 = -1.0/np.sqrt(3), 1.0/np.sqrt(3)\n",
    "sigma = np.zeros((3,len(CON1)))\n",
    "epsilon = np.zeros((3,len(CON1)))\n",
    "def sigma_vector(XYZ,CON,DOF,Ce,d):\n",
    "    \n",
    "            \n",
    "    for i in range(len(CON1)):\n",
    "        id = DOF[i]                               \n",
    "        xyze = XYZ[CON1[i]]                            \n",
    "        de = sym.Matrix(d[id])\n",
    "                                        \n",
    "        dsB, J = dispstrain_B(xyze, xi, eta)\n",
    "        detJ = J.det()\n",
    "        ip1 = (xi1,eta1)\n",
    "        ip2 = (xi2,eta1)\n",
    "        ip3 = (xi2,eta2)\n",
    "        ip4 = (xi1,eta2)\n",
    "        \n",
    "        \n",
    "        eps = dsB*de\n",
    "        \n",
    "        eps1 = eps.evalf(subs = {xi:ip1[0], eta:ip1[1]})\n",
    "        eps2 = eps.evalf(subs = {xi:ip2[0], eta:ip2[1]})\n",
    "        eps3 = eps.evalf(subs = {xi:ip3[0], eta:ip3[1]})\n",
    "        eps4 = eps.evalf(subs = {xi:ip4[0], eta:ip4[1]}) \n",
    "        \n",
    "        sig1 = Ce*eps1\n",
    "        sig2 = Ce*eps2\n",
    "        sig3 = Ce*eps3\n",
    "        sig4 = Ce*eps4\n",
    "        \n",
    "        eps1 *= detJ.evalf(subs = {xi:ip1[0], eta:ip1[1]})\n",
    "        eps2 *= detJ.evalf(subs = {xi:ip2[0], eta:ip2[1]})\n",
    "        eps3 *= detJ.evalf(subs = {xi:ip3[0], eta:ip3[1]})\n",
    "        eps4 *= detJ.evalf(subs = {xi:ip4[0], eta:ip4[1]})\n",
    "        #sumeps = eps1 + eps2 + eps3 + eps\n",
    "        \n",
    "        epsjuan = np.array(eps1)\n",
    "        epsdos = np.array(eps2)\n",
    "        epstres = np.array(eps3)\n",
    "        epsquat = np.array(eps4)\n",
    "\n",
    "        epsilon[0,i] = epsjuan[0] + epsdos[0] + epstres[0] + epsquat[0]\n",
    "        epsilon[1,i] = epsjuan[1] + epsdos[1] + epstres[1] + epsquat[1]\n",
    "        epsilon[2,i] = epsjuan[2] + epsdos[2] + epstres[2] + epsquat[2]\n",
    "        \n",
    "        sig1 *= detJ.evalf(subs = {xi:ip1[0], eta:ip1[1]})\n",
    "        sig2 *= detJ.evalf(subs = {xi:ip2[0], eta:ip2[1]})\n",
    "        sig3 *= detJ.evalf(subs = {xi:ip3[0], eta:ip3[1]})\n",
    "        sig4 *= detJ.evalf(subs = {xi:ip4[0], eta:ip4[1]}) \n",
    "        \n",
    "        sigjuan = np.array(sig1)\n",
    "        sigdos = np.array(sig2)\n",
    "        sigtres = np.array(sig3)\n",
    "        sigquat = np.array(sig4)\n",
    "        \n",
    "        sigma[0,i] = sigjuan[0] + sigdos[0] + sigtres[0] + sigquat[0]\n",
    "        sigma[1,i] = sigjuan[1] + sigdos[1] + sigtres[1] + sigquat[1]\n",
    "        sigma[2,i] = sigjuan[2] + sigdos[2] + sigtres[2] + sigquat[2]\n",
    "        \n",
    "    sigma1 = sigma\n",
    "\n",
    "\n",
    "    return sigma1, epsilon\n"
   ]
  },
  {
   "cell_type": "markdown",
   "metadata": {},
   "source": [
    "### II.7 Global stiffness matrix (function) \n",
    "Now it's time to assemble the matrices for each element. HINT: use function 'np.ix_(,)' to assemble the global stiffness matrix.    "
   ]
  },
  {
   "cell_type": "code",
   "execution_count": 18,
   "metadata": {},
   "outputs": [],
   "source": [
    "def K_global(XYZ,CON1,DOF,Ce,th,BC):\n",
    "    \n",
    "    nel= len(CON1)                                              # number of elements\n",
    "    ndof= 2*len(XYZ)                                             # number of global DOFs\n",
    "\n",
    "    Kglobal=np.zeros((ndof,ndof))                         # create an array for Kglobal \n",
    "\n",
    "    for i in range(nel):\n",
    "        \n",
    "        id= DOF[i]\n",
    "        \n",
    "        xyze=XYZ[CON1[i]]# define IDs of DOFs\n",
    "\n",
    "        ke = keval(xyze,Ce,th)\n",
    "        # call the function evaluating the element stiffness matrix\n",
    "    \n",
    "        Kglobal[np.ix_(id,id)] += ke                      # assemble the global stiffness matrix\n",
    "\n",
    "    #Kglobal_red= Kglobal[np.ix_(BC,BC)]\n",
    "    Kglobal_red = Kglobal[BC[0]:,BC[0]:] \n",
    "    # reduce the size of the global K matrix\n",
    "        \n",
    "    return Kglobal_red #, Kglobal_red1\n"
   ]
  },
  {
   "cell_type": "code",
   "execution_count": null,
   "metadata": {},
   "outputs": [],
   "source": []
  },
  {
   "cell_type": "markdown",
   "metadata": {},
   "source": [
    "### II.8. Computing unknown displacements"
   ]
  },
  {
   "cell_type": "markdown",
   "metadata": {},
   "source": [
    "At this point, you have everything you need to solve the complete system - similar to Q2 in Workshop 4. "
   ]
  },
  {
   "cell_type": "code",
   "execution_count": 19,
   "metadata": {},
   "outputs": [],
   "source": [
    "# Call calculation of the elasticity matrix \n",
    "C = elasticity_matrix(E,nu)\n",
    "\n",
    "\n",
    "# Calculate unknown nodal displacements\n",
    "Kglobal_red = K_global(XYZ, CON1 ,DOF, C, th, BC)\n",
    "dglobal_red = np.linalg.solve(Kglobal_red, rhs)\n",
    "\n",
    "dglobal = np.zeros((2*len(XYZ),))\n",
    "dglobal[BC] = dglobal_red                                    # global nodal displacement vector (including zero DOFs)\n",
    "\n",
    "# strains, stresses\n",
    "sigma, epsilon = sigma_vector(XYZ,CON1,DOF,Ce,dglobal)\n"
   ]
  },
  {
   "cell_type": "code",
   "execution_count": 20,
   "metadata": {},
   "outputs": [
    {
     "name": "stdout",
     "output_type": "stream",
     "text": [
      "[[-2.26835461e-02 -1.02772827e-02  1.63555487e-03  1.47343285e-02\n",
      "   6.73271219e-03  7.22062832e-04 -5.18639287e-03 -1.35522037e-02\n",
      "  -2.86760737e-02 -1.58666760e-02 -3.62132521e-03  1.55888053e-02\n",
      "   8.00613021e-03  2.18609389e-02  5.42518661e-02  2.35095972e-02\n",
      "   9.57971489e-03  2.11242843e-04 -8.48327406e-03 -1.95664962e-02\n",
      "  -3.84457704e-02 -8.73047160e-02 -4.33704245e-02 -2.26102674e-02\n",
      "   8.12157203e-03  3.39117221e-02 -5.82647332e-02 -3.43917746e-02\n",
      "   2.78889595e-03 -1.89527622e-03 -3.25938411e-03 -2.45135009e-02\n",
      "  -8.79252764e-04  1.88599709e-04 -5.67652239e-03 -1.88187770e-02\n",
      "   1.30761823e-03 -1.31038441e-04 -5.47846118e-03 -2.00052557e-02\n",
      "  -4.23955177e-03  2.94153346e-03 -5.85573909e-03 -2.05557515e-02\n",
      "  -1.34833765e-02 -5.32194671e-02 -1.10521778e-02 -2.33744574e-02\n",
      "  -9.99856070e-03 -3.94663347e-02 -9.56674162e-02 -4.41466156e-02\n",
      "  -8.25988840e-03  1.64893303e-02  2.92931647e-02  3.02872299e-02\n",
      "   1.95018157e-02 -3.37236861e-03 -1.67636560e-02 -1.51626506e-02\n",
      "   1.39491909e-02  4.52168391e-02  3.86391101e-02 -1.28816904e-02\n",
      "  -4.87684177e-02 -7.35176363e-02 -8.63214708e-02 -8.73155359e-02\n",
      "  -7.65301217e-02 -5.36559374e-02 -2.50345165e-02 -3.69135621e-03]\n",
      " [-1.42009029e-01 -2.22945119e-02  2.77611267e-02  2.12075506e-02\n",
      "   5.49977234e-03  6.66574687e-04 -2.35580816e-03 -8.81200699e-03\n",
      "  -3.60303125e-02 -6.55456357e-02 -3.37604184e-02  9.56726981e-02\n",
      "  -1.47780241e-01 -2.37056911e-03  4.35106906e-02  3.63401526e-03\n",
      "   2.04681977e-03  2.48305716e-05 -1.79204273e-05 -2.78951386e-03\n",
      "  -5.15316438e-03 -7.89647410e-02 -6.09431594e-02  8.88029532e-02\n",
      "  -1.39556299e-01  4.02779445e-02 -1.22982527e-01  6.22608812e-02\n",
      "  -9.98356312e-02  5.57276967e-04 -6.41955459e-02  3.47390008e-03\n",
      "  -6.22465157e-02 -3.70318385e-02 -2.56428212e-02 -3.50788246e-02\n",
      "  -2.41714695e-02 -7.51068847e-02 -3.63301626e-03 -5.70886295e-02\n",
      "   1.32489099e-02 -1.12527264e-01  1.20382829e-03 -6.19254741e-02\n",
      "   5.39370722e-02 -1.53215426e-01 -1.12111111e-02 -4.95105347e-02\n",
      "   4.52413207e-02 -6.52944852e-02 -6.78383238e-02  5.36502722e-04\n",
      "  -3.87938035e-03 -3.75882358e-03 -3.94335498e-03 -3.88606225e-03\n",
      "  -3.80172425e-03 -1.03375864e-02 -1.78290445e-02 -2.52090381e-02\n",
      "   1.27475093e-02 -2.16991798e-02 -3.12650711e-02 -1.77725629e-02\n",
      "  -1.23070624e-02 -1.39618452e-02 -1.38483574e-02 -1.37245013e-02\n",
      "  -1.43198421e-02 -1.70251404e-02 -1.26472867e-02 -4.17666003e-03]\n",
      " [ 2.16580795e-03  2.97527134e-03 -1.82879772e-02 -2.23414801e-02\n",
      "  -1.47701995e-02 -1.21492163e-02 -1.35890433e-02 -2.00139386e-02\n",
      "  -3.56689009e-02 -3.75660651e-02 -1.04910923e-02 -2.63165909e-04\n",
      "   5.91202404e-03 -9.79355134e-04 -4.18702292e-02 -1.28108453e-02\n",
      "  -5.35283743e-03 -4.03227682e-03 -4.15179067e-03 -5.88119371e-03\n",
      "  -1.64868159e-02 -6.72645442e-02 -1.96633082e-02 -7.41882741e-03\n",
      "  -1.71583675e-02 -3.98699385e-02 -6.76142212e-02 -2.96431870e-02\n",
      "  -2.94430494e-02 -2.75852567e-02 -3.44604566e-02 -3.70826660e-02\n",
      "  -2.87630379e-02 -2.82652681e-02 -2.24924608e-02 -2.33363760e-02\n",
      "  -2.89183878e-02 -2.81099182e-02 -1.01253452e-02 -9.98920587e-03\n",
      "  -3.00385792e-02 -2.69897269e-02  2.74563582e-03  2.85409880e-03\n",
      "  -1.07034184e-02 -4.63248876e-02  1.87423963e-02  1.25716240e-02\n",
      "   2.63147802e-02  1.57201576e-02 -5.92576198e-02 -2.93466670e-02\n",
      "  -2.25047688e-02 -1.41102636e-02 -5.20436276e-03  3.63279055e-03\n",
      "   1.24107747e-02  2.42649221e-02  2.82881606e-02  1.97920963e-02\n",
      "   2.33441849e-02  1.60795351e-02 -2.22429566e-02 -3.43761317e-02\n",
      "  -2.34402520e-02 -1.40569794e-02 -5.18510254e-03  3.75552193e-03\n",
      "   1.27553156e-02  1.86789460e-02  2.02988047e-02  4.38911401e-03]]\n"
     ]
    }
   ],
   "source": [
    "print(sigma)\n"
   ]
  },
  {
   "cell_type": "markdown",
   "metadata": {},
   "source": [
    "### Plot displacements over the undeformed configuration"
   ]
  },
  {
   "cell_type": "code",
   "execution_count": 21,
   "metadata": {},
   "outputs": [
    {
     "data": {
      "image/png": "[encoded data removed]",
      "text/plain": [
       "<Figure size 640x480 with 1 Axes>"
      ]
     },
     "metadata": {},
     "output_type": "display_data"
    }
   ],
   "source": [
    "#plt.rc('figure', figsize=(70,50))\n",
    "sdef=100000000\n",
    "\n",
    "\n",
    "d_e = np.array(dglobal).astype(np.float64)\n",
    "\n",
    "plt.plot(XYZ[:, 0],\n",
    "         XYZ[:, 1], 'sk')\n",
    "plt.plot(XYZ[:, 0] + sdef*d_e[0:2*len(XYZ)-1:2],\n",
    "         XYZ[:, 1] + sdef*d_e[1:2*len(XYZ):2], 'or')\n",
    "\n",
    "for i in CON1:\n",
    "        plt.fill(XYZ[i, 0],XYZ[i, 1], edgecolor='k', fill=False)\n",
    "XYZdef =np.zeros((np.shape(XYZ)))\n",
    "for i in range(len(XYZ)):\n",
    "        XYZdef[i,0] = XYZ[i,0]+sdef*d_e[2*i]\n",
    "        XYZdef[i,1] = XYZ[i,1]+sdef*d_e[2*i+1]\n",
    "for i in CON1:\n",
    "        plt.fill(XYZdef[i, 0],XYZdef[i, 1], edgecolor='r', fill=False)\n",
    "\n",
    "plt.show()\n",
    "\n",
    "\n",
    "\n",
    "\n",
    "\n"
   ]
  },
  {
   "cell_type": "markdown",
   "metadata": {},
   "source": [
    "### Calculate and plot contours for the Von Mises stress"
   ]
  },
  {
   "cell_type": "code",
   "execution_count": 22,
   "metadata": {},
   "outputs": [
    {
     "name": "stdout",
     "output_type": "stream",
     "text": [
      "[ 0.00000000e+00  0.00000000e+00  0.00000000e+00  0.00000000e+00\n",
      "  0.00000000e+00  0.00000000e+00  0.00000000e+00  0.00000000e+00\n",
      "  0.00000000e+00  0.00000000e+00  0.00000000e+00  0.00000000e+00\n",
      "  0.00000000e+00  0.00000000e+00  0.00000000e+00  0.00000000e+00\n",
      "  0.00000000e+00  0.00000000e+00  0.00000000e+00  0.00000000e+00\n",
      "  0.00000000e+00  0.00000000e+00  0.00000000e+00  0.00000000e+00\n",
      "  0.00000000e+00  0.00000000e+00 -5.61464020e-12 -1.26189006e-11\n",
      " -2.23170427e-12 -4.04484461e-12 -2.53555177e-12  1.72210260e-12\n",
      " -3.54482560e-12  1.65771963e-12 -2.63939969e-12  3.35207595e-13\n",
      " -2.04261897e-12  5.44392340e-14 -1.98196810e-12 -3.11037339e-15\n",
      " -2.52383876e-12 -6.32220560e-14 -3.82374026e-12 -4.40326396e-13\n",
      " -5.81494569e-12 -2.78639115e-12 -4.92445748e-12 -4.66918587e-12\n",
      " -3.90000555e-12  6.30270138e-13 -6.14098873e-12  1.05828407e-11\n",
      " -1.81094524e-11 -2.65515050e-11 -1.40420253e-11 -8.83398757e-12\n",
      " -1.09168794e-11  5.26165059e-12 -5.06356058e-12  1.15769918e-12\n",
      " -3.20500715e-12  2.60109615e-13 -2.70024281e-12 -3.44440982e-14\n",
      " -2.73571657e-12  7.96328081e-14 -3.24770377e-12  2.22356306e-13\n",
      " -4.25846312e-12 -2.18032567e-13 -6.82174565e-12 -1.97001513e-12\n",
      " -1.51167763e-11 -1.14889885e-11 -1.88710422e-11  1.76803933e-12\n",
      " -2.33198804e-11  2.14726711e-11 -4.23935750e-11 -3.96023797e-11\n",
      " -3.93555092e-11 -1.34875021e-11 -4.00240904e-11  1.34412552e-11\n",
      " -4.99672374e-11 -2.52768563e-11 -4.80845664e-11  2.81172293e-12\n",
      " -5.06308688e-11  2.96714930e-11 -7.61199861e-11 -4.92184711e-11\n",
      " -7.44505160e-11 -1.64047954e-11 -7.40418974e-11  1.65106148e-11\n",
      " -8.52347669e-11 -3.12689036e-11 -8.47185831e-11  9.65349888e-13\n",
      " -8.53715390e-11  3.30204910e-11 -1.14205867e-10 -5.38731873e-11\n",
      " -1.13265718e-10 -1.94501603e-11 -1.12033339e-10  1.49439435e-11\n",
      " -1.20740484e-10 -3.25406138e-11 -1.20842295e-10 -7.02904981e-13\n",
      " -1.20996646e-10  3.11497506e-11 -1.51540909e-10 -5.37889324e-11\n",
      " -1.51262685e-10 -2.25965290e-11 -1.49230686e-10  8.75874808e-12\n",
      " -1.52612263e-10 -3.11391897e-11 -1.53032844e-10 -2.31668645e-12\n",
      " -1.52871915e-10  2.65401032e-11 -1.82675141e-10 -4.85992464e-11\n",
      " -1.84059138e-10 -2.59539270e-11 -1.80810255e-10 -2.00172963e-12\n",
      " -1.79182332e-10 -2.91150055e-11 -1.79542319e-10 -3.93543209e-12\n",
      " -1.79553834e-10  2.13581491e-11 -2.02206333e-10 -4.06718542e-11\n",
      " -2.04854560e-10 -2.65869084e-11 -2.08027238e-10 -1.80918636e-11\n",
      " -2.17824629e-10 -3.63416203e-11 -2.21335631e-10 -5.10386607e-11\n",
      " -2.20548971e-10 -6.45579036e-11 -2.16761952e-10 -7.28648995e-11\n",
      " -2.11371398e-10 -7.36607602e-11 -2.05849024e-10 -6.60579465e-11\n",
      " -2.01647919e-10 -5.06543021e-11 -2.00429431e-10 -2.88689225e-11\n",
      " -2.00953749e-10 -5.09252126e-12 -2.01685526e-10  1.73810849e-11\n",
      " -2.09482439e-10 -3.42146822e-11 -2.10053374e-10 -2.69829423e-11\n",
      " -2.08935088e-10 -2.40893507e-11 -2.08067892e-10 -3.45990410e-11\n",
      " -2.10068631e-10 -5.07862179e-11 -2.11712709e-10 -6.49318391e-11\n",
      " -2.13285590e-10 -7.36785149e-11 -2.14862172e-10 -7.46169082e-11\n",
      " -2.16449494e-10 -6.69078601e-11 -2.18060074e-10 -5.11288582e-11\n",
      " -2.19246269e-10 -2.95322301e-11 -2.20027236e-10 -5.91348400e-12\n",
      " -2.20079349e-10  1.57303646e-11 -2.12644034e-10 -3.24190148e-11\n",
      " -2.10895747e-10 -2.78031400e-11 -2.05444855e-10 -2.79418666e-11\n",
      " -2.00142779e-10 -3.63211551e-11 -1.98967186e-10 -5.07109166e-11\n",
      " -2.02848425e-10 -6.44069499e-11 -2.09805403e-10 -7.27278903e-11\n",
      " -2.18355411e-10 -7.35186387e-11 -2.27023669e-10 -6.58984169e-11\n",
      " -2.34301823e-10 -5.05757084e-11 -2.39042476e-10 -2.98582540e-11\n",
      " -2.40821367e-10 -6.06626308e-12 -2.41045727e-10  1.55251397e-11]\n"
     ]
    }
   ],
   "source": [
    "print(dglobal)"
   ]
  },
  {
   "cell_type": "code",
   "execution_count": 23,
   "metadata": {},
   "outputs": [
    {
     "name": "stdout",
     "output_type": "stream",
     "text": [
      "[0.13218892 0.02000244 0.0416089  0.04303263 0.02632537 0.02105457\n",
      " 0.02396282 0.03665467 0.07002931 0.08798647 0.03688918 0.08891041\n",
      " 0.15228625 0.02319958 0.08795031 0.03119016 0.01274014 0.00698697\n",
      " 0.01111424 0.02097173 0.04606474 0.14330773 0.06412385 0.1028113\n",
      " 0.14682835 0.07858282 0.15833188 0.09917978 0.11337567 0.04783093\n",
      " 0.08651603 0.06945149 0.07938897 0.06144227 0.04540867 0.05057953\n",
      " 0.05591419 0.08945234 0.01819002 0.05307167 0.05437486 0.12323707\n",
      " 0.00808726 0.05485268 0.0645132  0.15681588 0.03431858 0.04810939\n",
      " 0.06838494 0.06313    0.13341204 0.06750242 0.03963112 0.03074583\n",
      " 0.03271711 0.03301072 0.03051223 0.04300855 0.05196802 0.04072281\n",
      " 0.04259242 0.06536237 0.07185254 0.06162805 0.05981607 0.0718758\n",
      " 0.08079863 0.08158624 0.07385196 0.05746324 0.04130601 0.00857007]\n"
     ]
    }
   ],
   "source": [
    "nel= len(CON1)\n",
    "Von_Mises = np.zeros(nel)\n",
    "for i in range(nel):\n",
    "    sigma_mat = np.array([[sigma[0,i],sigma[2,i],0.0],\n",
    "                          [sigma[2,i],sigma[1,i],0.0],\n",
    "                          [0.0,0.0,0.0]])\n",
    "    sigma11 = sigma[0,i]\n",
    "    sigma22 = sigma[1,i]\n",
    "    sigma21 = sigma[2,i]\n",
    "    sigma13 = 0.0\n",
    "    sigma23 = 0.0\n",
    "    sigma33 = 0.0\n",
    "    Von_Mises[i] = np.sqrt((0.5)*(((sigma11-sigma22)**2)+((sigma22-sigma33)**2)+((sigma33-sigma11)**2)+(6*((sigma21**2)+(sigma23**2)+(sigma13**2)))))\n",
    "               \n",
    "print(Von_Mises)"
   ]
  },
  {
   "cell_type": "code",
   "execution_count": 24,
   "metadata": {},
   "outputs": [],
   "source": [
    "nel= CON1[:,0].shape[0]\n",
    "V_mat = np.zeros(nel)\n",
    "#print(\"sigma shape: \", sigma.shape)\n",
    "for i in range(nel):\n",
    "    #sigma_mat = sym.Matrix([[sigma[0,i],sigma[2,i]],[sigma[2,i],sigma[1,i]]]) #2x2\n",
    "    sigma_mat = np.array([[sigma[0,i],sigma[2,i],0.0],\n",
    "                          [sigma[2,i],sigma[1,i],0.0],\n",
    "                          [0.0,0.0,0.0]],dtype=float)\n",
    "\n",
    "    eigval = np.linalg.eigvals(sigma_mat)\n",
    "    sigma11 = max(eigval)\n",
    "    sigma33 = min(eigval)\n",
    "    sigma22 = np.trace(sigma_mat) - (sigma11 + sigma33)\n",
    "    V_mat[i] = np.sqrt(0.5*((sigma11 - sigma22)**2 + (sigma22-sigma33)**2 + (sigma33 - sigma11)**2))"
   ]
  },
  {
   "cell_type": "code",
   "execution_count": 25,
   "metadata": {},
   "outputs": [
    {
     "name": "stdout",
     "output_type": "stream",
     "text": [
      "0.15833188464428824\n"
     ]
    }
   ],
   "source": [
    "#print(len(Von_Mises))\n",
    "#print(len(CON1))\n",
    "print(max(V_mat))"
   ]
  },
  {
   "cell_type": "code",
   "execution_count": 26,
   "metadata": {},
   "outputs": [
    {
     "data": {
      "image/png": "[encoded data removed]",
      "text/plain": [
       "<Figure size 640x480 with 2 Axes>"
      ]
     },
     "metadata": {},
     "output_type": "display_data"
    },
    {
     "name": "stdout",
     "output_type": "stream",
     "text": [
      "0.04160890144903704\n",
      "0.008570065647813692\n",
      "0.1583318846442882\n"
     ]
    }
   ],
   "source": [
    "import matplotlib as mpl\n",
    "#plt.rc('figure', figsize=(70,50))\n",
    "cmap = mpl.colormaps['viridis']\n",
    "plt.plot(XYZ[:, 0],\n",
    "         XYZ[:, 1], 'sk')\n",
    "\n",
    "norm = plt.Normalize(vmin=np.min(Von_Mises), vmax=np.max(Von_Mises))\n",
    "rgba = []\n",
    "for i in range(len(CON1)):\n",
    "    rgba.append(cmap(norm(Von_Mises[i])))\n",
    "\n",
    "for j,i in enumerate(CON1):\n",
    "        plt.fill(XYZ[i, 0],XYZ[i, 1], edgecolor='k', facecolor=rgba[j])\n",
    "\n",
    "dummy = [plt.scatter([], [], color=rgba[i], label=str(i+1)) for i in range(len(CON1))]\n",
    "\n",
    "plt.colorbar()\n",
    "\n",
    "plt.show()\n",
    "plt.show()\n"
   ]
  },
  {
   "cell_type": "code",
   "execution_count": null,
   "metadata": {},
   "outputs": [],
   "source": []
  },
  {
   "cell_type": "code",
   "execution_count": null,
   "metadata": {},
   "outputs": [],
   "source": []
  },
  {
   "cell_type": "code",
   "execution_count": null,
   "metadata": {},
   "outputs": [],
   "source": []
  },
  {
   "cell_type": "code",
   "execution_count": null,
   "metadata": {},
   "outputs": [],
   "source": []
  },
  {
   "cell_type": "code",
   "execution_count": null,
   "metadata": {},
   "outputs": [],
   "source": []
  },
  {
   "cell_type": "code",
   "execution_count": null,
   "metadata": {},
   "outputs": [],
   "source": []
  },
  {
   "cell_type": "code",
   "execution_count": null,
   "metadata": {},
   "outputs": [],
   "source": []
  },
  {
   "cell_type": "code",
   "execution_count": null,
   "metadata": {},
   "outputs": [],
   "source": []
  }
 ],
 "metadata": {
  "kernelspec": {
   "display_name": "Python 3 (ipykernel)",
   "language": "python",
   "name": "python3"
  },
  "language_info": {
   "codemirror_mode": {
    "name": "ipython",
    "version": 3
   },
   "file_extension": ".py",
   "mimetype": "text/x-python",
   "name": "python",
   "nbconvert_exporter": "python",
   "pygments_lexer": "ipython3",
   "version": "3.10.6"
  }
 },
 "nbformat": 4,
 "nbformat_minor": 2
}
